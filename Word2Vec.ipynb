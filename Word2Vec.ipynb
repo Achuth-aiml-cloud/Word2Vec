{
  "nbformat": 4,
  "nbformat_minor": 0,
  "metadata": {
    "colab": {
      "name": "Word2Vec.ipynb",
      "provenance": []
    },
    "kernelspec": {
      "name": "python3",
      "display_name": "Python 3"
    },
    "language_info": {
      "name": "python"
    }
  },
  "cells": [
    {
      "cell_type": "code",
      "metadata": {
        "id": "LezC9G0a0j1y"
      },
      "source": [
        "import re\n",
        "import nltk\n",
        "from gensim.models import Word2Vec\n",
        "from nltk.corpus import stopwords"
      ],
      "execution_count": 1,
      "outputs": []
    },
    {
      "cell_type": "code",
      "metadata": {
        "id": "5sQ5r6A506J1"
      },
      "source": [
        "paragraph = \"\"\"At SpaceX, Musk oversees the development of rockets and spacecraft for missions to Earth orbit and ultimately to other planets. In 2008, SpaceX’s Falcon 9 rocket and Dragon spacecraft won the NASA contract to provide cargo transport to space. In 2012, SpaceX became the first commercial company to dock with the International Space Station and return cargo to Earth with the Dragon.\n",
        "\n",
        "At Tesla, Musk has overseen product development and design from the beginning, including the all-electric Tesla Roadster, Model S and Model X, and the rollout of Supercharger stations to keep the cars juiced up. (Some of the charging stations use solar energy systems from SolarCity, of which Musk is the non-executive chair.) Transitioning to a sustainable energy economy, in which electric vehicles play a pivotal role, has been one of his central interests for almost two decades. Before this, he co-founded PayPal and served as the company's chair and CEO.\"\"\""
      ],
      "execution_count": 2,
      "outputs": []
    },
    {
      "cell_type": "code",
      "metadata": {
        "id": "-_Uo-L3J0-lB"
      },
      "source": [
        "text = re.sub(r'\\[[0-9]*\\]',' ',paragraph)\n",
        "text = re.sub(r'\\s+',' ',text)\n",
        "text = text.lower()\n",
        "text = re.sub(r'\\d',' ',text)\n",
        "text = re.sub(r'\\s+',' ',text)"
      ],
      "execution_count": 17,
      "outputs": []
    },
    {
      "cell_type": "code",
      "metadata": {
        "colab": {
          "base_uri": "https://localhost:8080/",
          "height": 120
        },
        "id": "G91-NMEZ1KQx",
        "outputId": "626f10fc-44dd-4daf-8e46-f5f60dddbc9f"
      },
      "source": [
        "text"
      ],
      "execution_count": 18,
      "outputs": [
        {
          "output_type": "execute_result",
          "data": {
            "application/vnd.google.colaboratory.intrinsic+json": {
              "type": "string"
            },
            "text/plain": [
              "\"at spacex, musk oversees the development of rockets and spacecraft for missions to earth orbit and ultimately to other planets. in , spacex’s falcon rocket and dragon spacecraft won the nasa contract to provide cargo transport to space. in , spacex became the first commercial company to dock with the international space station and return cargo to earth with the dragon. at tesla, musk has overseen product development and design from the beginning, including the all-electric tesla roadster, model s and model x, and the rollout of supercharger stations to keep the cars juiced up. (some of the charging stations use solar energy systems from solarcity, of which musk is the non-executive chair.) transitioning to a sustainable energy economy, in which electric vehicles play a pivotal role, has been one of his central interests for almost two decades. before this, he co-founded paypal and served as the company's chair and ceo.\""
            ]
          },
          "metadata": {
            "tags": []
          },
          "execution_count": 18
        }
      ]
    },
    {
      "cell_type": "code",
      "metadata": {
        "colab": {
          "base_uri": "https://localhost:8080/"
        },
        "id": "52wxgBuz1u6C",
        "outputId": "5b67d944-9483-49f1-e008-4bc4ceb49263"
      },
      "source": [
        "#data preparation\n",
        "nltk.download('punkt')"
      ],
      "execution_count": 19,
      "outputs": [
        {
          "output_type": "stream",
          "text": [
            "[nltk_data] Downloading package punkt to /root/nltk_data...\n",
            "[nltk_data]   Package punkt is already up-to-date!\n"
          ],
          "name": "stdout"
        },
        {
          "output_type": "execute_result",
          "data": {
            "text/plain": [
              "True"
            ]
          },
          "metadata": {
            "tags": []
          },
          "execution_count": 19
        }
      ]
    },
    {
      "cell_type": "code",
      "metadata": {
        "id": "LRK1ovGW4Vk9"
      },
      "source": [
        "sentences = nltk.sent_tokenize(text)"
      ],
      "execution_count": 20,
      "outputs": []
    },
    {
      "cell_type": "code",
      "metadata": {
        "colab": {
          "base_uri": "https://localhost:8080/"
        },
        "id": "m0FbfZkp4bvz",
        "outputId": "3cbfc206-6398-4e31-8b7b-d6abe4440b9e"
      },
      "source": [
        "sentences\n",
        "len(sentences)"
      ],
      "execution_count": 21,
      "outputs": [
        {
          "output_type": "execute_result",
          "data": {
            "text/plain": [
              "7"
            ]
          },
          "metadata": {
            "tags": []
          },
          "execution_count": 21
        }
      ]
    },
    {
      "cell_type": "code",
      "metadata": {
        "id": "EWaMoI_44cur"
      },
      "source": [
        "sentences = [nltk.word_tokenize(sentence) for sentence in sentences]"
      ],
      "execution_count": 22,
      "outputs": []
    },
    {
      "cell_type": "code",
      "metadata": {
        "colab": {
          "base_uri": "https://localhost:8080/"
        },
        "id": "swhKOYjq5Tr4",
        "outputId": "fb19b5c4-ef1e-40dd-94e1-65ba654de601"
      },
      "source": [
        "sentences"
      ],
      "execution_count": 23,
      "outputs": [
        {
          "output_type": "execute_result",
          "data": {
            "text/plain": [
              "[['at',\n",
              "  'spacex',\n",
              "  ',',\n",
              "  'musk',\n",
              "  'oversees',\n",
              "  'the',\n",
              "  'development',\n",
              "  'of',\n",
              "  'rockets',\n",
              "  'and',\n",
              "  'spacecraft',\n",
              "  'for',\n",
              "  'missions',\n",
              "  'to',\n",
              "  'earth',\n",
              "  'orbit',\n",
              "  'and',\n",
              "  'ultimately',\n",
              "  'to',\n",
              "  'other',\n",
              "  'planets',\n",
              "  '.'],\n",
              " ['in',\n",
              "  ',',\n",
              "  'spacex',\n",
              "  '’',\n",
              "  's',\n",
              "  'falcon',\n",
              "  'rocket',\n",
              "  'and',\n",
              "  'dragon',\n",
              "  'spacecraft',\n",
              "  'won',\n",
              "  'the',\n",
              "  'nasa',\n",
              "  'contract',\n",
              "  'to',\n",
              "  'provide',\n",
              "  'cargo',\n",
              "  'transport',\n",
              "  'to',\n",
              "  'space',\n",
              "  '.'],\n",
              " ['in',\n",
              "  ',',\n",
              "  'spacex',\n",
              "  'became',\n",
              "  'the',\n",
              "  'first',\n",
              "  'commercial',\n",
              "  'company',\n",
              "  'to',\n",
              "  'dock',\n",
              "  'with',\n",
              "  'the',\n",
              "  'international',\n",
              "  'space',\n",
              "  'station',\n",
              "  'and',\n",
              "  'return',\n",
              "  'cargo',\n",
              "  'to',\n",
              "  'earth',\n",
              "  'with',\n",
              "  'the',\n",
              "  'dragon',\n",
              "  '.'],\n",
              " ['at',\n",
              "  'tesla',\n",
              "  ',',\n",
              "  'musk',\n",
              "  'has',\n",
              "  'overseen',\n",
              "  'product',\n",
              "  'development',\n",
              "  'and',\n",
              "  'design',\n",
              "  'from',\n",
              "  'the',\n",
              "  'beginning',\n",
              "  ',',\n",
              "  'including',\n",
              "  'the',\n",
              "  'all-electric',\n",
              "  'tesla',\n",
              "  'roadster',\n",
              "  ',',\n",
              "  'model',\n",
              "  's',\n",
              "  'and',\n",
              "  'model',\n",
              "  'x',\n",
              "  ',',\n",
              "  'and',\n",
              "  'the',\n",
              "  'rollout',\n",
              "  'of',\n",
              "  'supercharger',\n",
              "  'stations',\n",
              "  'to',\n",
              "  'keep',\n",
              "  'the',\n",
              "  'cars',\n",
              "  'juiced',\n",
              "  'up',\n",
              "  '.'],\n",
              " ['(',\n",
              "  'some',\n",
              "  'of',\n",
              "  'the',\n",
              "  'charging',\n",
              "  'stations',\n",
              "  'use',\n",
              "  'solar',\n",
              "  'energy',\n",
              "  'systems',\n",
              "  'from',\n",
              "  'solarcity',\n",
              "  ',',\n",
              "  'of',\n",
              "  'which',\n",
              "  'musk',\n",
              "  'is',\n",
              "  'the',\n",
              "  'non-executive',\n",
              "  'chair',\n",
              "  '.',\n",
              "  ')'],\n",
              " ['transitioning',\n",
              "  'to',\n",
              "  'a',\n",
              "  'sustainable',\n",
              "  'energy',\n",
              "  'economy',\n",
              "  ',',\n",
              "  'in',\n",
              "  'which',\n",
              "  'electric',\n",
              "  'vehicles',\n",
              "  'play',\n",
              "  'a',\n",
              "  'pivotal',\n",
              "  'role',\n",
              "  ',',\n",
              "  'has',\n",
              "  'been',\n",
              "  'one',\n",
              "  'of',\n",
              "  'his',\n",
              "  'central',\n",
              "  'interests',\n",
              "  'for',\n",
              "  'almost',\n",
              "  'two',\n",
              "  'decades',\n",
              "  '.'],\n",
              " ['before',\n",
              "  'this',\n",
              "  ',',\n",
              "  'he',\n",
              "  'co-founded',\n",
              "  'paypal',\n",
              "  'and',\n",
              "  'served',\n",
              "  'as',\n",
              "  'the',\n",
              "  'company',\n",
              "  \"'s\",\n",
              "  'chair',\n",
              "  'and',\n",
              "  'ceo',\n",
              "  '.']]"
            ]
          },
          "metadata": {
            "tags": []
          },
          "execution_count": 23
        }
      ]
    },
    {
      "cell_type": "code",
      "metadata": {
        "id": "9k_juDXJ5zXS"
      },
      "source": [
        ""
      ],
      "execution_count": null,
      "outputs": []
    },
    {
      "cell_type": "code",
      "metadata": {
        "colab": {
          "base_uri": "https://localhost:8080/"
        },
        "id": "MeLd7Xia5zjh",
        "outputId": "7c6e7402-b55c-4646-c600-5d31279ae808"
      },
      "source": [
        "nltk.download('stopwords')"
      ],
      "execution_count": 25,
      "outputs": [
        {
          "output_type": "stream",
          "text": [
            "[nltk_data] Downloading package stopwords to /root/nltk_data...\n",
            "[nltk_data]   Unzipping corpora/stopwords.zip.\n"
          ],
          "name": "stdout"
        },
        {
          "output_type": "execute_result",
          "data": {
            "text/plain": [
              "True"
            ]
          },
          "metadata": {
            "tags": []
          },
          "execution_count": 25
        }
      ]
    },
    {
      "cell_type": "code",
      "metadata": {
        "id": "CCy6-kG_5WWb"
      },
      "source": [
        "for i in range(len(sentences)):\n",
        "  sentences[i] = [word for word in sentences[i] if word not in set(stopwords.words('english'))]"
      ],
      "execution_count": 26,
      "outputs": []
    },
    {
      "cell_type": "code",
      "metadata": {
        "colab": {
          "base_uri": "https://localhost:8080/"
        },
        "id": "9-E_iAV_53eo",
        "outputId": "a9db8da8-fbf6-410e-de32-ed2c255875b3"
      },
      "source": [
        "sentences"
      ],
      "execution_count": 27,
      "outputs": [
        {
          "output_type": "execute_result",
          "data": {
            "text/plain": [
              "[['spacex',\n",
              "  ',',\n",
              "  'musk',\n",
              "  'oversees',\n",
              "  'development',\n",
              "  'rockets',\n",
              "  'spacecraft',\n",
              "  'missions',\n",
              "  'earth',\n",
              "  'orbit',\n",
              "  'ultimately',\n",
              "  'planets',\n",
              "  '.'],\n",
              " [',',\n",
              "  'spacex',\n",
              "  '’',\n",
              "  'falcon',\n",
              "  'rocket',\n",
              "  'dragon',\n",
              "  'spacecraft',\n",
              "  'nasa',\n",
              "  'contract',\n",
              "  'provide',\n",
              "  'cargo',\n",
              "  'transport',\n",
              "  'space',\n",
              "  '.'],\n",
              " [',',\n",
              "  'spacex',\n",
              "  'became',\n",
              "  'first',\n",
              "  'commercial',\n",
              "  'company',\n",
              "  'dock',\n",
              "  'international',\n",
              "  'space',\n",
              "  'station',\n",
              "  'return',\n",
              "  'cargo',\n",
              "  'earth',\n",
              "  'dragon',\n",
              "  '.'],\n",
              " ['tesla',\n",
              "  ',',\n",
              "  'musk',\n",
              "  'overseen',\n",
              "  'product',\n",
              "  'development',\n",
              "  'design',\n",
              "  'beginning',\n",
              "  ',',\n",
              "  'including',\n",
              "  'all-electric',\n",
              "  'tesla',\n",
              "  'roadster',\n",
              "  ',',\n",
              "  'model',\n",
              "  'model',\n",
              "  'x',\n",
              "  ',',\n",
              "  'rollout',\n",
              "  'supercharger',\n",
              "  'stations',\n",
              "  'keep',\n",
              "  'cars',\n",
              "  'juiced',\n",
              "  '.'],\n",
              " ['(',\n",
              "  'charging',\n",
              "  'stations',\n",
              "  'use',\n",
              "  'solar',\n",
              "  'energy',\n",
              "  'systems',\n",
              "  'solarcity',\n",
              "  ',',\n",
              "  'musk',\n",
              "  'non-executive',\n",
              "  'chair',\n",
              "  '.',\n",
              "  ')'],\n",
              " ['transitioning',\n",
              "  'sustainable',\n",
              "  'energy',\n",
              "  'economy',\n",
              "  ',',\n",
              "  'electric',\n",
              "  'vehicles',\n",
              "  'play',\n",
              "  'pivotal',\n",
              "  'role',\n",
              "  ',',\n",
              "  'one',\n",
              "  'central',\n",
              "  'interests',\n",
              "  'almost',\n",
              "  'two',\n",
              "  'decades',\n",
              "  '.'],\n",
              " [',', 'co-founded', 'paypal', 'served', 'company', \"'s\", 'chair', 'ceo', '.']]"
            ]
          },
          "metadata": {
            "tags": []
          },
          "execution_count": 27
        }
      ]
    },
    {
      "cell_type": "code",
      "metadata": {
        "id": "9GA8SbuL57Yv"
      },
      "source": [
        "#word2vec model\n",
        "model = Word2Vec(sentences , min_count=1)"
      ],
      "execution_count": 37,
      "outputs": []
    },
    {
      "cell_type": "code",
      "metadata": {
        "id": "wVOCMGyHJFeS"
      },
      "source": [
        "words = model.wv.vocab"
      ],
      "execution_count": 38,
      "outputs": []
    },
    {
      "cell_type": "code",
      "metadata": {
        "colab": {
          "base_uri": "https://localhost:8080/"
        },
        "id": "E5l5jte5Jqbl",
        "outputId": "1f7fb457-fef5-49dd-9c85-ab1c559543f0"
      },
      "source": [
        "words"
      ],
      "execution_count": 39,
      "outputs": [
        {
          "output_type": "execute_result",
          "data": {
            "text/plain": [
              "{\"'s\": <gensim.models.keyedvectors.Vocab at 0x7fc1a16cc350>,\n",
              " '(': <gensim.models.keyedvectors.Vocab at 0x7fc19f60abd0>,\n",
              " ')': <gensim.models.keyedvectors.Vocab at 0x7fc19f60a150>,\n",
              " ',': <gensim.models.keyedvectors.Vocab at 0x7fc19f621690>,\n",
              " '.': <gensim.models.keyedvectors.Vocab at 0x7fc1a4414990>,\n",
              " 'all-electric': <gensim.models.keyedvectors.Vocab at 0x7fc19f60ac90>,\n",
              " 'almost': <gensim.models.keyedvectors.Vocab at 0x7fc1a174ce50>,\n",
              " 'became': <gensim.models.keyedvectors.Vocab at 0x7fc19f60a5d0>,\n",
              " 'beginning': <gensim.models.keyedvectors.Vocab at 0x7fc19f60afd0>,\n",
              " 'cargo': <gensim.models.keyedvectors.Vocab at 0x7fc19f60ad10>,\n",
              " 'cars': <gensim.models.keyedvectors.Vocab at 0x7fc19f60a290>,\n",
              " 'central': <gensim.models.keyedvectors.Vocab at 0x7fc1a174c7d0>,\n",
              " 'ceo': <gensim.models.keyedvectors.Vocab at 0x7fc1a16cc510>,\n",
              " 'chair': <gensim.models.keyedvectors.Vocab at 0x7fc19f60a910>,\n",
              " 'charging': <gensim.models.keyedvectors.Vocab at 0x7fc19f60a990>,\n",
              " 'co-founded': <gensim.models.keyedvectors.Vocab at 0x7fc1a16cced0>,\n",
              " 'commercial': <gensim.models.keyedvectors.Vocab at 0x7fc19f60ad90>,\n",
              " 'company': <gensim.models.keyedvectors.Vocab at 0x7fc19f60ad50>,\n",
              " 'contract': <gensim.models.keyedvectors.Vocab at 0x7fc19f60a650>,\n",
              " 'decades': <gensim.models.keyedvectors.Vocab at 0x7fc1a174ce10>,\n",
              " 'design': <gensim.models.keyedvectors.Vocab at 0x7fc19f60af50>,\n",
              " 'development': <gensim.models.keyedvectors.Vocab at 0x7fc19f621110>,\n",
              " 'dock': <gensim.models.keyedvectors.Vocab at 0x7fc19f60a9d0>,\n",
              " 'dragon': <gensim.models.keyedvectors.Vocab at 0x7fc19f60a090>,\n",
              " 'earth': <gensim.models.keyedvectors.Vocab at 0x7fc19f621450>,\n",
              " 'economy': <gensim.models.keyedvectors.Vocab at 0x7fc19f60a250>,\n",
              " 'electric': <gensim.models.keyedvectors.Vocab at 0x7fc19f60aa10>,\n",
              " 'energy': <gensim.models.keyedvectors.Vocab at 0x7fc19f60a410>,\n",
              " 'falcon': <gensim.models.keyedvectors.Vocab at 0x7fc19f60a790>,\n",
              " 'first': <gensim.models.keyedvectors.Vocab at 0x7fc19f60ac10>,\n",
              " 'including': <gensim.models.keyedvectors.Vocab at 0x7fc19f60a950>,\n",
              " 'interests': <gensim.models.keyedvectors.Vocab at 0x7fc1a174c610>,\n",
              " 'international': <gensim.models.keyedvectors.Vocab at 0x7fc19f60a310>,\n",
              " 'juiced': <gensim.models.keyedvectors.Vocab at 0x7fc19f60ab90>,\n",
              " 'keep': <gensim.models.keyedvectors.Vocab at 0x7fc19f60aed0>,\n",
              " 'missions': <gensim.models.keyedvectors.Vocab at 0x7fc1a44146d0>,\n",
              " 'model': <gensim.models.keyedvectors.Vocab at 0x7fc19f60a8d0>,\n",
              " 'musk': <gensim.models.keyedvectors.Vocab at 0x7fc19f621fd0>,\n",
              " 'nasa': <gensim.models.keyedvectors.Vocab at 0x7fc19f60a4d0>,\n",
              " 'non-executive': <gensim.models.keyedvectors.Vocab at 0x7fc19f60a190>,\n",
              " 'one': <gensim.models.keyedvectors.Vocab at 0x7fc19f60a210>,\n",
              " 'orbit': <gensim.models.keyedvectors.Vocab at 0x7fc19f621a10>,\n",
              " 'overseen': <gensim.models.keyedvectors.Vocab at 0x7fc19f60a850>,\n",
              " 'oversees': <gensim.models.keyedvectors.Vocab at 0x7fc19f621d90>,\n",
              " 'paypal': <gensim.models.keyedvectors.Vocab at 0x7fc1a16ccb50>,\n",
              " 'pivotal': <gensim.models.keyedvectors.Vocab at 0x7fc19f60a6d0>,\n",
              " 'planets': <gensim.models.keyedvectors.Vocab at 0x7fc1a4414cd0>,\n",
              " 'play': <gensim.models.keyedvectors.Vocab at 0x7fc19f60ae10>,\n",
              " 'product': <gensim.models.keyedvectors.Vocab at 0x7fc19f60af10>,\n",
              " 'provide': <gensim.models.keyedvectors.Vocab at 0x7fc19f60a890>,\n",
              " 'return': <gensim.models.keyedvectors.Vocab at 0x7fc19f60a350>,\n",
              " 'roadster': <gensim.models.keyedvectors.Vocab at 0x7fc19f60ab50>,\n",
              " 'rocket': <gensim.models.keyedvectors.Vocab at 0x7fc19f60a510>,\n",
              " 'rockets': <gensim.models.keyedvectors.Vocab at 0x7fc1a4cbb610>,\n",
              " 'role': <gensim.models.keyedvectors.Vocab at 0x7fc19f60a2d0>,\n",
              " 'rollout': <gensim.models.keyedvectors.Vocab at 0x7fc19f60a110>,\n",
              " 'served': <gensim.models.keyedvectors.Vocab at 0x7fc1a16cc8d0>,\n",
              " 'solar': <gensim.models.keyedvectors.Vocab at 0x7fc19f60aa50>,\n",
              " 'solarcity': <gensim.models.keyedvectors.Vocab at 0x7fc19f60a7d0>,\n",
              " 'space': <gensim.models.keyedvectors.Vocab at 0x7fc19f60acd0>,\n",
              " 'spacecraft': <gensim.models.keyedvectors.Vocab at 0x7fc1a4414f10>,\n",
              " 'spacex': <gensim.models.keyedvectors.Vocab at 0x7fc19f5d8cd0>,\n",
              " 'station': <gensim.models.keyedvectors.Vocab at 0x7fc19f60ab10>,\n",
              " 'stations': <gensim.models.keyedvectors.Vocab at 0x7fc19f60a710>,\n",
              " 'supercharger': <gensim.models.keyedvectors.Vocab at 0x7fc19f60a390>,\n",
              " 'sustainable': <gensim.models.keyedvectors.Vocab at 0x7fc19f60a3d0>,\n",
              " 'systems': <gensim.models.keyedvectors.Vocab at 0x7fc19f60aa90>,\n",
              " 'tesla': <gensim.models.keyedvectors.Vocab at 0x7fc19f60a690>,\n",
              " 'transitioning': <gensim.models.keyedvectors.Vocab at 0x7fc19f60a810>,\n",
              " 'transport': <gensim.models.keyedvectors.Vocab at 0x7fc19f60ae90>,\n",
              " 'two': <gensim.models.keyedvectors.Vocab at 0x7fc1a174c050>,\n",
              " 'ultimately': <gensim.models.keyedvectors.Vocab at 0x7fc1a4414f90>,\n",
              " 'use': <gensim.models.keyedvectors.Vocab at 0x7fc19f60a450>,\n",
              " 'vehicles': <gensim.models.keyedvectors.Vocab at 0x7fc19f60a550>,\n",
              " 'x': <gensim.models.keyedvectors.Vocab at 0x7fc19f60add0>,\n",
              " '’': <gensim.models.keyedvectors.Vocab at 0x7fc1a4414ad0>}"
            ]
          },
          "metadata": {
            "tags": []
          },
          "execution_count": 39
        }
      ]
    },
    {
      "cell_type": "code",
      "metadata": {
        "colab": {
          "base_uri": "https://localhost:8080/"
        },
        "id": "s8zo31qpJ7u5",
        "outputId": "ac182e38-a286-4789-f9e3-84e1130e0d31"
      },
      "source": [
        "#getting the vector of a word which is 100 dimensional\n",
        "vector = model.wv['rocket']\n",
        "vector"
      ],
      "execution_count": 42,
      "outputs": [
        {
          "output_type": "execute_result",
          "data": {
            "text/plain": [
              "array([ 2.1946573e-04,  3.3308249e-03,  4.7135372e-03,  3.5467132e-03,\n",
              "       -3.6150038e-03, -1.7123036e-03,  9.9762226e-04,  1.2041174e-03,\n",
              "        2.1095132e-03,  1.6710329e-03,  4.8313034e-03,  4.9518654e-03,\n",
              "        2.3158286e-03,  2.2559017e-03,  2.2684729e-03,  4.3855454e-03,\n",
              "       -2.0058099e-03,  4.6162023e-03, -1.2344919e-03,  1.7240866e-03,\n",
              "       -4.5712441e-03, -1.6739643e-03, -5.7331793e-04,  4.4557657e-03,\n",
              "       -1.5807637e-03,  2.5651564e-03,  4.2213425e-03, -3.1330874e-03,\n",
              "       -4.5597507e-03,  3.0887309e-03, -6.0356094e-04,  1.4675360e-03,\n",
              "        3.4873467e-03, -4.7731033e-04, -1.4769015e-03, -3.5265882e-03,\n",
              "        3.0199678e-03, -1.7693171e-03, -1.6648880e-03, -3.9944630e-03,\n",
              "       -2.5396072e-03, -3.5681184e-03, -1.5873710e-03, -1.7745363e-03,\n",
              "        3.6780678e-03,  2.2409598e-03, -2.1274467e-03, -2.0266508e-03,\n",
              "        3.1604411e-03, -2.3100057e-03, -2.5958868e-03,  4.0310342e-03,\n",
              "        1.0003716e-03, -1.9349714e-03,  1.2582064e-03,  4.3691797e-03,\n",
              "       -1.8844076e-03, -4.9763178e-03,  2.9167582e-03,  8.3290983e-04,\n",
              "       -4.7620167e-03, -3.8062688e-05, -4.1719461e-03,  4.6001078e-04,\n",
              "       -2.5767211e-03,  4.0773056e-03,  3.0336056e-03, -1.5716602e-03,\n",
              "        1.7903213e-03,  3.3767906e-03, -7.9367880e-04,  1.1512910e-03,\n",
              "        2.3090099e-03, -9.6644805e-04, -1.0088739e-03, -3.3526591e-04,\n",
              "       -2.3627658e-03,  2.1846644e-03,  4.9127848e-03,  8.1929838e-04,\n",
              "        3.8481466e-04,  1.5444617e-03, -1.4186541e-03, -1.4534553e-03,\n",
              "       -2.7660455e-03,  2.3944150e-03, -1.9810004e-03, -1.3410093e-03,\n",
              "        4.5238296e-03,  2.9099260e-03,  4.2273970e-03, -2.6881106e-03,\n",
              "       -4.8092981e-03, -8.9140324e-04, -3.8825463e-05, -1.6985232e-03,\n",
              "        2.3199930e-03,  4.1283460e-04,  3.3077942e-03, -3.1403657e-03],\n",
              "      dtype=float32)"
            ]
          },
          "metadata": {
            "tags": []
          },
          "execution_count": 42
        }
      ]
    },
    {
      "cell_type": "code",
      "metadata": {
        "colab": {
          "base_uri": "https://localhost:8080/"
        },
        "id": "o7SxTdnRKxPT",
        "outputId": "8419ccce-712e-4a6f-eff1-bf9d80467f45"
      },
      "source": [
        "#getting the most similar words\n",
        "similar = model.wv.most_similar('rocket')\n",
        "print(similar)"
      ],
      "execution_count": 41,
      "outputs": [
        {
          "output_type": "stream",
          "text": [
            "[('all-electric', 0.23068435490131378), ('.', 0.21666306257247925), ('orbit', 0.21026436984539032), ('transitioning', 0.1949189007282257), ('provide', 0.1914421021938324), ('tesla', 0.1671334207057953), ('model', 0.1653844118118286), ('(', 0.1609262377023697), ('roadster', 0.15817034244537354), ('first', 0.15354962646961212)]\n"
          ],
          "name": "stdout"
        }
      ]
    },
    {
      "cell_type": "code",
      "metadata": {
        "id": "88A6deBzLQV3"
      },
      "source": [
        ""
      ],
      "execution_count": null,
      "outputs": []
    }
  ]
}